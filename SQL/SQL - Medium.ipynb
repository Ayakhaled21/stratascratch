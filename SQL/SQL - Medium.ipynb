{
 "cells": [
  {
   "cell_type": "markdown",
   "id": "8dc2a66f",
   "metadata": {},
   "source": [
    "## Q1) [Most Profitable Companies](https://platform.stratascratch.com/coding/10354-most-profitable-companies?code_type=1)\n",
    "> Find the 3 most profitable companies in the entire world.\n",
    "Output the result along with the corresponding company name.\n",
    "Sort the result based on profits in descending order."
   ]
  },
  {
   "cell_type": "code",
   "execution_count": 6,
   "id": "545301e2",
   "metadata": {},
   "outputs": [
    {
     "data": {
      "text/plain": [
       "' SELECT company , profits FROM (\\nselect company ,profits , dense_rank() OVER( ORDER BY profits DESC ) as profits_rank\\nfrom forbes_global_2010_2014 ) as tb \\nWHERE profits_rank <= 3 \\nORDER BY profits_rank ASC '"
      ]
     },
     "execution_count": 6,
     "metadata": {},
     "output_type": "execute_result"
    }
   ],
   "source": [
    "''' SELECT company , profits FROM (\n",
    "select company ,profits , dense_rank() OVER( ORDER BY profits DESC ) as profits_rank\n",
    "from forbes_global_2010_2014 ) as tb \n",
    "WHERE profits_rank <= 3 \n",
    "ORDER BY profits_rank ASC '''"
   ]
  },
  {
   "cell_type": "markdown",
   "id": "5f436257",
   "metadata": {},
   "source": [
    "## Q2 ) [Ranking Most Active Guests](https://platform.stratascratch.com/coding/10159-ranking-most-active-guests?code_type=1)\n",
    "> Rank guests based on the number of messages they've exchanged with the hosts. Guests with the same number of messages as other guests should have the same rank. Do not skip rankings if the preceding rankings are identical.\n",
    "Output the rank, guest id, and number of total messages they've sent. Order by the highest number of total messages first.\n",
    "\n"
   ]
  },
  {
   "cell_type": "code",
   "execution_count": 3,
   "id": "e851c8c7",
   "metadata": {},
   "outputs": [
    {
     "data": {
      "text/plain": [
       "' SELECT id_guest , total_n_messages , dense_rank() OVER(ORDER BY total_n_messages DESC) as ranking from (\\nselect \\nid_guest , sum(n_messages) as total_n_messages \\nfrom airbnb_contacts\\nGROUP by id_guest ) as tb \\nORDER BY total_n_messages DESC '"
      ]
     },
     "execution_count": 3,
     "metadata": {},
     "output_type": "execute_result"
    }
   ],
   "source": [
    "''' SELECT id_guest , total_n_messages , dense_rank() OVER(ORDER BY total_n_messages DESC) as ranking from (\n",
    "select \n",
    "id_guest , sum(n_messages) as total_n_messages \n",
    "from airbnb_contacts\n",
    "GROUP by id_guest ) as tb \n",
    "ORDER BY total_n_messages DESC '''"
   ]
  },
  {
   "cell_type": "markdown",
   "id": "10771327",
   "metadata": {},
   "source": [
    "### Recommeded solution \n",
    "\n",
    "SELECT \n",
    "    DENSE_RANK() OVER(ORDER BY sum(n_messages) DESC) as ranking, \n",
    "    id_guest, \n",
    "    sum(n_messages) as sum_n_messages\n",
    "FROM airbnb_contacts\n",
    "GROUP BY id_guest\n",
    "ORDER BY sum_n_messages DESC"
   ]
  }
 ],
 "metadata": {
  "kernelspec": {
   "display_name": "Python 3 (ipykernel)",
   "language": "python",
   "name": "python3"
  },
  "language_info": {
   "codemirror_mode": {
    "name": "ipython",
    "version": 3
   },
   "file_extension": ".py",
   "mimetype": "text/x-python",
   "name": "python",
   "nbconvert_exporter": "python",
   "pygments_lexer": "ipython3",
   "version": "3.9.12"
  }
 },
 "nbformat": 4,
 "nbformat_minor": 5
}
