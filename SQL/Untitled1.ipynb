{
 "cells": [
  {
   "cell_type": "markdown",
   "id": "663e2069",
   "metadata": {},
   "source": [
    "## Q1) [Find the top 10 ranked songs in 2010](https://platform.stratascratch.com/coding/9650-find-the-top-10-ranked-songs-in-2010?code_type=1)\n"
   ]
  },
  {
   "cell_type": "raw",
   "id": "28efc207",
   "metadata": {},
   "source": [
    "select distinct year_rank , group_name , song_name\n",
    "from billboard_top_100_year_end\n",
    "WHERE year = 2010\n",
    "ORDER BY year_rank ASC \n",
    "LIMIT 10 "
   ]
  }
 ],
 "metadata": {
  "kernelspec": {
   "display_name": "Python 3 (ipykernel)",
   "language": "python",
   "name": "python3"
  },
  "language_info": {
   "codemirror_mode": {
    "name": "ipython",
    "version": 3
   },
   "file_extension": ".py",
   "mimetype": "text/x-python",
   "name": "python",
   "nbconvert_exporter": "python",
   "pygments_lexer": "ipython3",
   "version": "3.9.12"
  }
 },
 "nbformat": 4,
 "nbformat_minor": 5
}
