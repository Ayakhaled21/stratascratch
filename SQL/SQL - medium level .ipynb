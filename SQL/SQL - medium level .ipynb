{
 "cells": [
  {
   "cell_type": "markdown",
   "id": "c5bf7bf9",
   "metadata": {},
   "source": [
    "## Q1) [Find the top 10 ranked songs in 2010](https://platform.stratascratch.com/coding/9650-find-the-top-10-ranked-songs-in-2010?code_type=1)\n"
   ]
  },
  {
   "cell_type": "markdown",
   "id": "de92b4a1",
   "metadata": {},
   "source": [
    "``` select distinct year_rank , group_name , song_name\n",
    "from billboard_top_100_year_end\n",
    "WHERE year = 2010\n",
    "ORDER BY year_rank ASC \n",
    "LIMIT 10 ```"
   ]
  },
  {
   "cell_type": "markdown",
   "id": "f2f3bf37",
   "metadata": {},
   "source": [
    "## Q2) [Most Profitable Companies](https://platform.stratascratch.com/coding/9680-most-profitable-companies?code_type=1)\n"
   ]
  },
  {
   "cell_type": "markdown",
   "id": "72743250",
   "metadata": {},
   "source": [
    "```SELECT  company , profits  \n",
    "FROM (\n",
    "select  company , profits , dense_rank() OVER(ORDER BY profits DESC ) as rank \n",
    "from forbes_global_2010_2014 ) as tb \n",
    "WHERE rank <= 3  ```"
   ]
  },
  {
   "cell_type": "markdown",
   "id": "f501c023",
   "metadata": {},
   "source": [
    "## Q3) [Top Businesses With Most Reviews](https://platform.stratascratch.com/coding/10048-top-businesses-with-most-reviews?code_type=1)\n"
   ]
  },
  {
   "cell_type": "markdown",
   "id": "20e6b268",
   "metadata": {},
   "source": [
    "```SELECT name , total_reviews \n",
    "FROM (\n",
    "select \n",
    "name , review_count as total_reviews , dense_rank() OVER(ORDER BY review_count DESC ) as rank_reviews \n",
    "from yelp_business ) as tb \n",
    "where \n",
    "rank_reviews <= 5 \n",
    "ORDER BY rank_reviews ASC ```"
   ]
  },
  {
   "cell_type": "markdown",
   "id": "d89f9c9f",
   "metadata": {},
   "source": [
    "## Q4) [Number Of Units Per Nationality](https://platform.stratascratch.com/coding/10156-number-of-units-per-nationality?code_type=1)\n"
   ]
  },
  {
   "cell_type": "markdown",
   "id": "4c6696e6",
   "metadata": {},
   "source": [
    "```SELECT nationality , count(distinct unit_id)\n",
    "FROM airbnb_hosts as h \n",
    "LEFT JOIN airbnb_units as u \n",
    "on h.host_id = u.host_id\n",
    "where h.age < 30 and u.unit_type = 'Apartment'\n",
    "GROUP BY nationality ```"
   ]
  },
  {
   "cell_type": "markdown",
   "id": "c275b8c6",
   "metadata": {},
   "source": [
    "## Q5) [Find matching hosts and guests in a way that they are both of the same gender and nationality](https://platform.stratascratch.com/coding/10078-find-matching-hosts-and-guests-in-a-way-that-they-are-both-of-the-same-gender-and-nationality?code_type=1)\n"
   ]
  },
  {
   "cell_type": "markdown",
   "id": "a01dedf2",
   "metadata": {},
   "source": [
    "```select host_id , guest_id \n",
    "from airbnb_hosts as h \n",
    "INNER JOIN airbnb_guests as g \n",
    "ON h.gender = g.gender \n",
    "and h.nationality = g.nationality \n",
    "group by host_id , guest_id ```\n",
    "\n",
    "```select distinct host_id , guest_id \n",
    "from airbnb_hosts as h \n",
    "INNER JOIN airbnb_guests as g \n",
    "ON h.gender = g.gender \n",
    "and h.nationality = g.nationality \n",
    "g```"
   ]
  },
  {
   "cell_type": "markdown",
   "id": "b41a77c1",
   "metadata": {},
   "source": [
    "## Q6) [Find all wineries which produce wines by possessing aromas of plum, cherry, rose, or hazelnut](https://platform.stratascratch.com/coding/10026-find-all-wineries-which-produce-wines-by-possessing-aromas-of-plum-cherry-rose-or-hazelnut?code_type=1)\n"
   ]
  },
  {
   "cell_type": "markdown",
   "id": "a352cddc",
   "metadata": {},
   "source": [
    "## Recommended PostgreSQL Solution by StrataScratch \n",
    "\n",
    "``` SELECT DISTINCT winery\n",
    "FROM winemag_p1\n",
    "WHERE lower(description) ~ '\\y(plum|cherry|rose|hazelnut)\\y' ``` "
   ]
  },
  {
   "cell_type": "markdown",
   "id": "90fb8ef9",
   "metadata": {},
   "source": [
    "## Q7) [Largest Olympics](https://platform.stratascratch.com/coding/9942-largest-olympics?code_type=1)"
   ]
  },
  {
   "cell_type": "markdown",
   "id": "ddb09242",
   "metadata": {},
   "source": [
    "``` SELECT games , total_athletes \n",
    "FROM (\n",
    "select \n",
    " games , count(distinct id) as total_athletes , dense_rank() OVER(ORDER BY count(distinct id) DESC ) as r \n",
    "from olympics_athletes_events\n",
    "GROUP BY games ) as tb \n",
    "WHERE r = 1  ``` "
   ]
  },
  {
   "cell_type": "markdown",
   "id": "484fd033",
   "metadata": {},
   "source": [
    "## Q8) [Find the rate of processed tickets for each type](https://platform.stratascratch.com/coding/9781-find-the-rate-of-processed-tickets-for-each-type?code_type=1)"
   ]
  },
  {
   "cell_type": "markdown",
   "id": "78f37eb3",
   "metadata": {},
   "source": [
    "``` select \n",
    "type  , CAST(sum(CASE WHEN processed = True then 1 else 0 END) as decimal) / \n",
    "count(processed)  as  rate_processed_tickets \n",
    "from facebook_complaints\n",
    "group by type ``` \n",
    "    \n",
    "    \n",
    "### [division-not-giving-my-answer-in-postgresql](https://stackoverflow.com/questions/34504497/division-not-giving-my-answer-in-postgresql)"
   ]
  }
 ],
 "metadata": {
  "kernelspec": {
   "display_name": "Python 3 (ipykernel)",
   "language": "python",
   "name": "python3"
  },
  "language_info": {
   "codemirror_mode": {
    "name": "ipython",
    "version": 3
   },
   "file_extension": ".py",
   "mimetype": "text/x-python",
   "name": "python",
   "nbconvert_exporter": "python",
   "pygments_lexer": "ipython3",
   "version": "3.9.12"
  }
 },
 "nbformat": 4,
 "nbformat_minor": 5
}
